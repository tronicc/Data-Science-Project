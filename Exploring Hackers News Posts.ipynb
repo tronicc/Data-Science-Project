{
 "cells": [
  {
   "cell_type": "code",
   "execution_count": 1,
   "metadata": {},
   "outputs": [],
   "source": [
    "from csv import reader\n",
    "import datetime as dt"
   ]
  },
  {
   "cell_type": "markdown",
   "metadata": {
    "collapsed": true
   },
   "source": [
    "# Exploring Hacker News Posts\n",
    "\n",
    "Hacker News, a social news website, allows users to submit stories or posts. Users can vote and comment on posts in a style similar to Reddit. The more votes the likely the post is visible to other users.\n",
    "\n",
    "The purpose of this project is to compare two different posts on the site Hacker News: _Ask HN_ or _Show HN_. The former is self-explanatory, users post questions seeking guidance or information. For example, which jobs are hiring and where? The latter is intended for posts that show off projects or other interesting phenomena. \n",
    "\n",
    "More importantly, we will use this comparison to answer two questions:\n",
    "\n",
    "- Does the _Ask HN_ or _Show HN_ receive more comments on average? \n",
    "\n",
    "- Do posts created at a certain time recieve more comments on average? \n",
    "\n",
    "We'll only analyze a selected sample of 20,000 rows from the 300,000 rows of data available. The simplified data is comprised of posts which received comments. To learn more about how the data was gathered and information regarding the columns, click [here](http://www.kaggle.com/hacker-news/hacker-news-posts)."
   ]
  },
  {
   "cell_type": "markdown",
   "metadata": {},
   "source": [
    "# Part 1: Reading in the Data\n",
    "\n",
    "Let us begin by importing the data. We assign the data to the variable `hn`."
   ]
  },
  {
   "cell_type": "code",
   "execution_count": 2,
   "metadata": {},
   "outputs": [
    {
     "name": "stdout",
     "output_type": "stream",
     "text": [
      "[['id', 'title', 'url', 'num_points', 'num_comments', 'author', 'created_at'], ['12224879', 'Interactive Dynamic Video', 'http://www.interactivedynamicvideo.com/', '386', '52', 'ne0phyte', '8/4/2016 11:52'], ['10975351', 'How to Use Open Source and Shut the Fuck Up at the Same Time', 'http://hueniverse.com/2016/01/26/how-to-use-open-source-and-shut-the-fuck-up-at-the-same-time/', '39', '10', 'josep2', '1/26/2016 19:30'], ['11964716', \"Florida DJs May Face Felony for April Fools' Water Joke\", 'http://www.thewire.com/entertainment/2013/04/florida-djs-april-fools-water-joke/63798/', '2', '1', 'vezycash', '6/23/2016 22:20'], ['11919867', 'Technology ventures: From Idea to Enterprise', 'https://www.amazon.com/Technology-Ventures-Enterprise-Thomas-Byers/dp/0073523429', '3', '1', 'hswarna', '6/17/2016 0:01']]\n"
     ]
    }
   ],
   "source": [
    "#read in the data\n",
    "\n",
    "opened_file = open('hacker_news.csv')\n",
    "read_file = reader(opened_file)\n",
    "hn = list(read_file)\n",
    "print(hn[:5])"
   ]
  },
  {
   "cell_type": "markdown",
   "metadata": {
    "collapsed": true
   },
   "source": [
    "The first entry contains the column header, so we will remove this entry to have only data. We then verify that the header was removed correctly. "
   ]
  },
  {
   "cell_type": "code",
   "execution_count": 3,
   "metadata": {},
   "outputs": [
    {
     "name": "stdout",
     "output_type": "stream",
     "text": [
      "['id', 'title', 'url', 'num_points', 'num_comments', 'author', 'created_at']\n",
      "[['12224879', 'Interactive Dynamic Video', 'http://www.interactivedynamicvideo.com/', '386', '52', 'ne0phyte', '8/4/2016 11:52'], ['10975351', 'How to Use Open Source and Shut the Fuck Up at the Same Time', 'http://hueniverse.com/2016/01/26/how-to-use-open-source-and-shut-the-fuck-up-at-the-same-time/', '39', '10', 'josep2', '1/26/2016 19:30'], ['11964716', \"Florida DJs May Face Felony for April Fools' Water Joke\", 'http://www.thewire.com/entertainment/2013/04/florida-djs-april-fools-water-joke/63798/', '2', '1', 'vezycash', '6/23/2016 22:20'], ['11919867', 'Technology ventures: From Idea to Enterprise', 'https://www.amazon.com/Technology-Ventures-Enterprise-Thomas-Byers/dp/0073523429', '3', '1', 'hswarna', '6/17/2016 0:01'], ['10301696', 'Note by Note: The Making of Steinway L1037 (2007)', 'http://www.nytimes.com/2007/11/07/movies/07stein.html?_r=0', '8', '2', 'walterbell', '9/30/2015 4:12']]\n"
     ]
    }
   ],
   "source": [
    "#do not run twice\n",
    "headers = hn[0]\n",
    "hn = hn[1:]\n",
    "print(headers)\n",
    "print(hn[:5])"
   ]
  },
  {
   "cell_type": "markdown",
   "metadata": {},
   "source": [
    "# Part Two: Filtering the Data\n",
    "\n",
    "Since our main concern is between the _Ask HN_ and _Show HN_ posts, we can create a new `list` containing only these posts. This simplifies the analysis as the size of our data decreases significantly as we see below.\n"
   ]
  },
  {
   "cell_type": "code",
   "execution_count": 11,
   "metadata": {},
   "outputs": [
    {
     "name": "stdout",
     "output_type": "stream",
     "text": [
      "Total number of ask posts are: 1744\n",
      "Total number of show posts are: 1162\n",
      "Total number of other posts are: 17194\n"
     ]
    }
   ],
   "source": [
    "ask_posts = []\n",
    "show_posts = [] #initialize empty lists \n",
    "other_posts = []\n",
    "\n",
    "#filters and separates posts based on category\n",
    "for row in hn:\n",
    "    title = row[1]\n",
    "    if title.lower().startswith('ask hn'):\n",
    "        ask_posts.append(row)\n",
    "    elif title.lower().startswith('show hn'):\n",
    "        show_posts.append(row)\n",
    "    else:\n",
    "        other_posts.append(row)\n",
    "        \n",
    "print(\"Total number of ask posts are:\", len(ask_posts))\n",
    "print(\"Total number of show posts are:\", len(show_posts))\n",
    "print(\"Total number of other posts are:\", len(other_posts))"
   ]
  },
  {
   "cell_type": "markdown",
   "metadata": {},
   "source": [
    "# Part Three: Determining Avg # of comments\n",
    "\n",
    "From above, we notice that the number of ask posts totals 1,744, while there are 1,162 show posts. Now, let's attempt to answer the first question we posed.\n",
    "\n",
    "- Does the _Ask HN_ or _Show HN_ receive more comments on average? "
   ]
  },
  {
   "cell_type": "code",
   "execution_count": 5,
   "metadata": {},
   "outputs": [],
   "source": [
    "#function calculates the avg number of comments for posts\n",
    "def avg_cal(a_list, index):\n",
    "    total_comments = 0\n",
    "    for post in a_list:\n",
    "        total_comments += int(post[index])\n",
    "    avg_comments = total_comments/len(a_list)\n",
    "    return avg_comments"
   ]
  },
  {
   "cell_type": "code",
   "execution_count": 6,
   "metadata": {},
   "outputs": [
    {
     "name": "stdout",
     "output_type": "stream",
     "text": [
      "The average number of comments on ask posts is: 14.04\n",
      "The average number of comments on show posts is: 10.32\n"
     ]
    }
   ],
   "source": [
    "avg_ask_comments = avg_cal(ask_posts,4)\n",
    "avg_show_comments = avg_cal(show_posts,4)\n",
    "\n",
    "print('The average number of comments on ask posts is: %1.2f' %avg_ask_comments)\n",
    "print('The average number of comments on show posts is: %1.2f' %avg_show_comments)"
   ]
  },
  {
   "cell_type": "markdown",
   "metadata": {},
   "source": [
    "From the above information, we see that ask posts average 14 comments per post. Meanwhile, the show posts average rougly 10 comments per post, a four point decrease from the ask posts. "
   ]
  },
  {
   "cell_type": "markdown",
   "metadata": {},
   "source": [
    "# Part Four: Number of comments by time created\n",
    "\n",
    "In part three, we determined ask posts recieve more comments and so we will only focus on these posts. In this section, we will attempt to answer the second question we posed in the beginning:\n",
    "\n",
    "\n",
    "- Do posts created at a certain time recieve more comments on average? "
   ]
  },
  {
   "cell_type": "code",
   "execution_count": 15,
   "metadata": {},
   "outputs": [
    {
     "name": "stdout",
     "output_type": "stream",
     "text": [
      "{'09': 251, '13': 1253, '10': 793, '14': 1416, '16': 1814, '23': 543, '12': 687, '17': 1146, '15': 4477, '21': 1745, '20': 1722, '02': 1381, '18': 1439, '03': 421, '05': 464, '19': 1188, '01': 683, '22': 479, '08': 492, '04': 337, '00': 447, '06': 397, '07': 267, '11': 641}\n"
     ]
    }
   ],
   "source": [
    "result_list = []\n",
    "counts_by_hour = {} #initialize two empty dictionaries \n",
    "comments_by_hour = {}\n",
    "\n",
    "#iterates over each post in ask posts\n",
    "for post in ask_posts:\n",
    "    created_at = post[6] #stores time post was created\n",
    "    num_comments = int(post[4]) #stores number of comments of post\n",
    "    result_list.append([created_at, num_comments])\n",
    "    #appends information as tuple to result_list\n",
    "\n",
    "#constructs two frequency tables \n",
    "for result in result_list:\n",
    "    time = result[0]\n",
    "    num_comments = result[1]\n",
    "    hr = dt.datetime.strptime(time, \"%m/%d/%Y %H:%M\").strftime(\"%H\")\n",
    "    #stores hr as datetime object\n",
    "    \n",
    "    if hr in counts_by_hour:\n",
    "        counts_by_hour[hr] += 1\n",
    "        comments_by_hour[hr] += num_comments\n",
    "    else:\n",
    "        counts_by_hour[hr] = 1 #\n",
    "        comments_by_hour[hr] = num_comments\n",
    "        \n",
    "\n",
    "print(comments_by_hour)"
   ]
  },
  {
   "cell_type": "markdown",
   "metadata": {
    "collapsed": true
   },
   "source": [
    "We have created our frequency table and assigned them to `counts_by_hour` and `comments_by_hour`. The hours are displayed in military time.  \n",
    "\n",
    "- `comments_by_hour`: contains total number of comments on ask posts at each hour received\n",
    "\n",
    "- `counts_by_hour`: contains total number of ask posts created at each hour of the day\n",
    "\n",
    "The next step is to utilize these two dictionaries to calculate the average number of comments for posts created during each hour of the day. To do this, we will create a list of lists which contain the hours during which posts were created and the average number of comments those posts received."
   ]
  },
  {
   "cell_type": "code",
   "execution_count": 8,
   "metadata": {},
   "outputs": [
    {
     "data": {
      "text/plain": [
       "[['09', 5.5777777777777775],\n",
       " ['13', 14.741176470588234],\n",
       " ['10', 13.440677966101696],\n",
       " ['14', 13.233644859813085],\n",
       " ['16', 16.796296296296298],\n",
       " ['23', 7.985294117647059],\n",
       " ['12', 9.41095890410959],\n",
       " ['17', 11.46],\n",
       " ['15', 38.5948275862069],\n",
       " ['21', 16.009174311926607],\n",
       " ['20', 21.525],\n",
       " ['02', 23.810344827586206],\n",
       " ['18', 13.20183486238532],\n",
       " ['03', 7.796296296296297],\n",
       " ['05', 10.08695652173913],\n",
       " ['19', 10.8],\n",
       " ['01', 11.383333333333333],\n",
       " ['22', 6.746478873239437],\n",
       " ['08', 10.25],\n",
       " ['04', 7.170212765957447],\n",
       " ['00', 8.127272727272727],\n",
       " ['06', 9.022727272727273],\n",
       " ['07', 7.852941176470588],\n",
       " ['11', 11.051724137931034]]"
      ]
     },
     "execution_count": 8,
     "metadata": {},
     "output_type": "execute_result"
    }
   ],
   "source": [
    "avg_by_hour = [] #initialize our lists\n",
    "\n",
    "#iterate each hr in counts_by_hour\n",
    "for hr in counts_by_hour:\n",
    "    avg_by_hour.append([hr, comments_by_hour[hr]/counts_by_hour[hr]])\n",
    "avg_by_hour"
   ]
  },
  {
   "cell_type": "markdown",
   "metadata": {},
   "source": [
    "In the above, we calculated the average number of comments for posts created during each hour of the day and stored the results in `avg_by_hour`. However, in this format it's not entirely clear the ideal hour to create a post. The values are not ordered and it's difficult to determine the correct choice. After all, we want our post to receive some shine. We'll remedy this with code down below.  "
   ]
  },
  {
   "cell_type": "code",
   "execution_count": 24,
   "metadata": {},
   "outputs": [
    {
     "name": "stdout",
     "output_type": "stream",
     "text": [
      "Top 5 Hours for Ask Posts Comments\n",
      "15:00: 38.59 average comments per post\n",
      "02:00: 23.81 average comments per post\n",
      "20:00: 21.52 average comments per post\n",
      "16:00: 16.80 average comments per post\n",
      "21:00: 16.01 average comments per post\n"
     ]
    }
   ],
   "source": [
    "swap_avg_by_hour = [] #initialize empty list\n",
    "\n",
    "#iterate over each row in data displayed above\n",
    "for row in avg_by_hour:\n",
    "    swap_avg_by_hour.append([row[1],row[0]])\n",
    "    #swap indices to have time on right side\n",
    "#print(swap_avg_by_hour)\n",
    "\n",
    "\n",
    "sorted_swap = sorted(swap_avg_by_hour,reverse = True)\n",
    "#arrange data in descending order of avg number of comments\n",
    "\n",
    "#formats the data to be easily read\n",
    "print('Top 5 Hours for Ask Posts Comments')\n",
    "for avg, hr in sorted_swap[:5]:\n",
    "    template = \"{}: {:.2f} average comments per post\"\n",
    "    time = dt.datetime.strptime(hr, \"%H\").strftime(\"%H:%M\")\n",
    "    print(template.format(time,avg))"
   ]
  },
  {
   "cell_type": "markdown",
   "metadata": {},
   "source": [
    "Based on the information above, we see that the best time to receive comments would be at 3:00 p.m (EST) with comments totaling an average of 38.59. "
   ]
  },
  {
   "cell_type": "markdown",
   "metadata": {},
   "source": [
    "# Conclusion"
   ]
  },
  {
   "cell_type": "markdown",
   "metadata": {},
   "source": [
    "In this project, we analyzed ask posts and show posts to determine which type of post and time will receive the most comments on average. Our analysis leads us to conclude that the recommended time to post is between 15:00 and 16:00 (3:00 pm est - 4:00 pm est). The post should also be an Ask post.\n",
    "\n",
    "\n",
    "It should be noted that the data set we analyzed excluded posts without any comments. Given that, it's more accurate to say that of the posts that received comments, ask posts received more comments on average and ask posts created between 15:00 and 16:00 (3:00 pm est - 4:00 pm est) received the most comments on average."
   ]
  },
  {
   "cell_type": "code",
   "execution_count": null,
   "metadata": {},
   "outputs": [],
   "source": []
  }
 ],
 "metadata": {
  "kernelspec": {
   "display_name": "Python 3",
   "language": "python",
   "name": "python3"
  },
  "language_info": {
   "codemirror_mode": {
    "name": "ipython",
    "version": 3
   },
   "file_extension": ".py",
   "mimetype": "text/x-python",
   "name": "python",
   "nbconvert_exporter": "python",
   "pygments_lexer": "ipython3",
   "version": "3.7.3"
  }
 },
 "nbformat": 4,
 "nbformat_minor": 2
}
